{
 "cells": [
  {
   "cell_type": "markdown",
   "metadata": {},
   "source": [
    "## Jupyter Notebook test2"
   ]
  },
  {
   "cell_type": "code",
   "execution_count": 1,
   "metadata": {
    "collapsed": false
   },
   "outputs": [
    {
     "name": "stdout",
     "output_type": "stream",
     "text": [
      "var1 100 var2 200\n",
      "new var1 110 new var2 198\n",
      "('returned values:', (110, 198))\n",
      "global 100 200\n",
      "Done\n"
     ]
    }
   ],
   "source": [
    "# Run external python script file, same working directory.\n",
    "# Use magic command, \"%run\".\n",
    "%run pytest1.py"
   ]
  },
  {
   "cell_type": "code",
   "execution_count": 2,
   "metadata": {
    "collapsed": false
   },
   "outputs": [
    {
     "name": "stdout",
     "output_type": "stream",
     "text": [
      "var1 100 var2 200\n",
      "new var1 110 new var2 198\n",
      "('returned values:', (110, 198))\n",
      "global 100 200\n",
      "Done\n"
     ]
    }
   ],
   "source": [
    "# Run internal codes copied to a cell in a Jupyter Notebook.\n",
    "\"\"\"pytest1.py copy.\"\"\"\n",
    "\n",
    "# global variables.\n",
    "var1 = 100\n",
    "var2 = 200\n",
    "print \"var1\", var1, \"var2\", var2\n",
    "# Should print \"var1 100 var2 200\"\n",
    "\n",
    "# Starting short test function.\n",
    "def myfunc(a, b):\n",
    "    a = a + 10\n",
    "    b = b - 2\n",
    "    print \"new var1\", a, \"new var2\", b\n",
    "    # Should print \"new var1 110 new var2 198\"\n",
    "    return(a, b)\n",
    "\n",
    "# Call myfunc(a, b), returns changed a, b.\n",
    "print('returned values:', myfunc(var1, var2))\n",
    "\n",
    "print \"global\", var1, var2\n",
    "\n",
    "print \"Done\""
   ]
  },
  {
   "cell_type": "raw",
   "metadata": {
    "collapsed": true
   },
   "source": [
    "Both methods of running the python script produced the same results."
   ]
  }
 ],
 "metadata": {
  "kernelspec": {
   "display_name": "Python 2",
   "language": "python",
   "name": "python2"
  },
  "language_info": {
   "codemirror_mode": {
    "name": "ipython",
    "version": 2
   },
   "file_extension": ".py",
   "mimetype": "text/x-python",
   "name": "python",
   "nbconvert_exporter": "python",
   "pygments_lexer": "ipython2",
   "version": "2.7.11"
  }
 },
 "nbformat": 4,
 "nbformat_minor": 0
}
